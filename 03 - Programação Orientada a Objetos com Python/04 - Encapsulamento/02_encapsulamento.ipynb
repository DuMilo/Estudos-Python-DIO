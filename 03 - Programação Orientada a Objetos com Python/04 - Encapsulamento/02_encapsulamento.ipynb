{
 "cells": [
  {
   "cell_type": "markdown",
   "metadata": {},
   "source": [
    "#### Encapsulamento de atributos dentro de uma Classe"
   ]
  },
  {
   "cell_type": "code",
   "execution_count": 4,
   "metadata": {},
   "outputs": [],
   "source": [
    "class Conta:\n",
    "    def __init__(self, n_agencia, saldo=0):\n",
    "        self.__saldo = saldo;\n",
    "        self.n_agencia = n_agencia;\n",
    "\n",
    "    def depositar(self, valor):\n",
    "        self.__saldo += valor;\n",
    "\n",
    "    def sacar(self, valor):\n",
    "        self.__saldo -= valor;\n",
    "\n",
    "    def mostrar_saldo(self):\n",
    "        return self.__saldo;"
   ]
  },
  {
   "cell_type": "markdown",
   "metadata": {},
   "source": [
    "#### Objeto 'conta'"
   ]
  },
  {
   "cell_type": "code",
   "execution_count": 5,
   "metadata": {},
   "outputs": [
    {
     "name": "stdout",
     "output_type": "stream",
     "text": [
      "0001\n",
      "100\n"
     ]
    }
   ],
   "source": [
    "conta = Conta(\"0001\", 100);\n",
    "print(conta.n_agencia);\n",
    "print(conta.mostrar_saldo());"
   ]
  },
  {
   "cell_type": "markdown",
   "metadata": {},
   "source": [
    "#### Tentando puxar atributo privado "
   ]
  },
  {
   "cell_type": "code",
   "execution_count": 6,
   "metadata": {},
   "outputs": [
    {
     "ename": "AttributeError",
     "evalue": "'Conta' object has no attribute '__saldo'",
     "output_type": "error",
     "traceback": [
      "\u001b[1;31m---------------------------------------------------------------------------\u001b[0m",
      "\u001b[1;31mAttributeError\u001b[0m                            Traceback (most recent call last)",
      "Cell \u001b[1;32mIn[6], line 1\u001b[0m\n\u001b[1;32m----> 1\u001b[0m \u001b[38;5;28mprint\u001b[39m(conta\u001b[38;5;241m.\u001b[39m__saldo)\n",
      "\u001b[1;31mAttributeError\u001b[0m: 'Conta' object has no attribute '__saldo'"
     ]
    }
   ],
   "source": [
    "print(conta.__saldo);"
   ]
  }
 ],
 "metadata": {
  "kernelspec": {
   "display_name": "base",
   "language": "python",
   "name": "python3"
  },
  "language_info": {
   "codemirror_mode": {
    "name": "ipython",
    "version": 3
   },
   "file_extension": ".py",
   "mimetype": "text/x-python",
   "name": "python",
   "nbconvert_exporter": "python",
   "pygments_lexer": "ipython3",
   "version": "3.12.7"
  }
 },
 "nbformat": 4,
 "nbformat_minor": 2
}
