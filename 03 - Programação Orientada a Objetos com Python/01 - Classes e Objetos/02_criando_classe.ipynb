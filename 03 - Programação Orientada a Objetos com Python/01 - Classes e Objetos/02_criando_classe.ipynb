{
 "cells": [
  {
   "cell_type": "markdown",
   "metadata": {},
   "source": [
    "#### Classe 'Bicicleta'"
   ]
  },
  {
   "cell_type": "code",
   "execution_count": 6,
   "metadata": {},
   "outputs": [],
   "source": [
    "class Bicicleta:\n",
    "    def __init__(self, cor, modelo, ano, valor):\n",
    "        self.cor = cor;\n",
    "        self.modelo = modelo;\n",
    "        self.ano = ano;\n",
    "        self.valor = valor;\n",
    "\n",
    "    def buzinar(self):\n",
    "        print(\"Bip bip!\");\n",
    "\n",
    "    def parar(self):\n",
    "        print(\"A bicicleta estacionou.\");\n",
    "\n",
    "    def correr(self):\n",
    "        print(\"Vrum vrum!\");\n",
    "\n",
    "    def __str__(self):\n",
    "        return f\"{self.__class__.__name__}: {\", \".join([f\"{chave}={valor}\" for chave, valor in self.__dict__.items()])}\";"
   ]
  },
  {
   "cell_type": "markdown",
   "metadata": {},
   "source": [
    "#### Objeto 'bicicleta_1'"
   ]
  },
  {
   "cell_type": "code",
   "execution_count": 7,
   "metadata": {},
   "outputs": [
    {
     "name": "stdout",
     "output_type": "stream",
     "text": [
      "Bip bip!\n",
      "A bicicleta estacionou.\n",
      "Vrum vrum!\n",
      "Bicicleta: cor=Amarela, modelo=Grande, ano=2007, valor=200\n"
     ]
    }
   ],
   "source": [
    "bicicleta_1 = Bicicleta(\"Amarela\", \"Grande\", \"2007\", \"200\");\n",
    "\n",
    "bicicleta_1.buzinar();\n",
    "bicicleta_1.parar();\n",
    "bicicleta_1.correr();\n",
    "print(bicicleta_1.__str__());"
   ]
  }
 ],
 "metadata": {
  "kernelspec": {
   "display_name": "base",
   "language": "python",
   "name": "python3"
  },
  "language_info": {
   "codemirror_mode": {
    "name": "ipython",
    "version": 3
   },
   "file_extension": ".py",
   "mimetype": "text/x-python",
   "name": "python",
   "nbconvert_exporter": "python",
   "pygments_lexer": "ipython3",
   "version": "3.12.7"
  }
 },
 "nbformat": 4,
 "nbformat_minor": 2
}
