{
 "cells": [
  {
   "cell_type": "markdown",
   "metadata": {},
   "source": [
    "#### Classes: avó 'Animal', pais 'Mamífero' e 'Ave', filhas 'Leao' e 'Ornitorrinco'"
   ]
  },
  {
   "cell_type": "code",
   "execution_count": 3,
   "metadata": {},
   "outputs": [],
   "source": [
    "class Animal:\n",
    "    def __init__(self, n_patas):\n",
    "        self.n_patas = n_patas;\n",
    "\n",
    "    def __str__(self):\n",
    "        return f\"{self.__class__.__name__}: {\", \".join([f\"{chave} = {valor}\" for chave, valor in self.__dict__.items()])}\"\n",
    "\n",
    "class Mamifero(Animal):\n",
    "    def __init__(self, cor_pelo, **kw):\n",
    "        self.cor_pelo = cor_pelo;\n",
    "        super().__init__(**kw);\n",
    "        \n",
    "\n",
    "class Ave(Animal):\n",
    "    def __init__(self, cor_bico, **kw):\n",
    "        self.cor_bico = cor_bico;\n",
    "        super().__init__(**kw);\n",
    "\n",
    "class Leao(Mamifero):\n",
    "    pass;\n",
    "\n",
    "class Ornitorrinco(Mamifero, Ave):\n",
    "    def __init__(self, cor_pelo, cor_bico, n_patas):\n",
    "        # print(Ornitorrinco.__mro__)\n",
    "\n",
    "        super().__init__(cor_pelo=cor_pelo, cor_bico=cor_bico, n_patas=n_patas);"
   ]
  },
  {
   "cell_type": "markdown",
   "metadata": {},
   "source": [
    "#### Objetos: 'leao' e 'ornitorrinco'"
   ]
  },
  {
   "cell_type": "code",
   "execution_count": 4,
   "metadata": {},
   "outputs": [
    {
     "name": "stdout",
     "output_type": "stream",
     "text": [
      "Leao: cor_pelo = Amarelo, n_patas = 4\n",
      "Ornitorrinco: cor_pelo = Marrom, cor_bico = Laranja, n_patas = 2\n"
     ]
    }
   ],
   "source": [
    "leao = Leao(n_patas=4, cor_pelo=\"Amarelo\");\n",
    "print(leao);\n",
    "\n",
    "ornitorrinco = Ornitorrinco(n_patas=2, cor_pelo='Marrom', cor_bico='Laranja');\n",
    "print(ornitorrinco);"
   ]
  }
 ],
 "metadata": {
  "kernelspec": {
   "display_name": "base",
   "language": "python",
   "name": "python3"
  },
  "language_info": {
   "codemirror_mode": {
    "name": "ipython",
    "version": 3
   },
   "file_extension": ".py",
   "mimetype": "text/x-python",
   "name": "python",
   "nbconvert_exporter": "python",
   "pygments_lexer": "ipython3",
   "version": "3.12.7"
  }
 },
 "nbformat": 4,
 "nbformat_minor": 2
}
