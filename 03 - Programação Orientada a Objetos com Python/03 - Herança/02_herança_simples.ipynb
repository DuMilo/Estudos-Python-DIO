{
 "cells": [
  {
   "cell_type": "markdown",
   "metadata": {},
   "source": [
    "#### Classes: pai 'Veículo', filhas 'Motocicleta', 'Carro' e 'Caminhao'"
   ]
  },
  {
   "cell_type": "code",
   "execution_count": 5,
   "metadata": {},
   "outputs": [],
   "source": [
    "class Veiculo:\n",
    "    def __init__(self, cor, placa, n_rodas):\n",
    "        self.cor = cor; \n",
    "        self.placa = placa;\n",
    "        self.n_rodas = n_rodas;\n",
    "\n",
    "    def ligar_motor(self):\n",
    "        print(\"Ligando  o motor...\");\n",
    "\n",
    "    def __str__(self):\n",
    "        return f\"{self.__class__.__name__}: {\", \".join([f\"{chave}={valor}\" for chave, valor in self.__dict__.items()])}\";\n",
    "\n",
    "class Motocicleta(Veiculo):\n",
    "    pass;\n",
    "\n",
    "class Carro(Veiculo):\n",
    "    pass;\n",
    "\n",
    "class Caminhao(Veiculo):\n",
    "    def __init__(self,  cor, placa, n_rodas, carregado):\n",
    "        super().__init__(cor, placa, n_rodas);\n",
    "        # Sobrescreve os atributos da classe mãe ^\n",
    "        self.carregado = carregado;\n",
    "\n",
    "    def esta_carregado(self):\n",
    "        print(f\"{'Sim,' if self.carregado else 'Não'} estou carregado.\");\n"
   ]
  },
  {
   "cell_type": "markdown",
   "metadata": {},
   "source": [
    "#### Objetos: 'moto', 'carro' e 'caminhao'"
   ]
  },
  {
   "cell_type": "code",
   "execution_count": 6,
   "metadata": {},
   "outputs": [
    {
     "name": "stdout",
     "output_type": "stream",
     "text": [
      "Motocicleta: cor=preta, placa=ABC-1234, n_rodas=2\n",
      "Carro: cor=branco, placa=XDE-0098, n_rodas=4\n",
      "Caminhao: cor=azul, placa=DEG-2305, n_rodas=8, carregado=True\n"
     ]
    }
   ],
   "source": [
    "moto = Motocicleta(\"preta\", \"ABC-1234\", \"2\");\n",
    "carro = Carro(\"branco\", \"XDE-0098\", \"4\");\n",
    "caminhao = Caminhao(\"azul\",\"DEG-2305\", \"8\", True);\n",
    "\n",
    "print(moto);\n",
    "print(carro);\n",
    "print(caminhao);"
   ]
  }
 ],
 "metadata": {
  "kernelspec": {
   "display_name": "base",
   "language": "python",
   "name": "python3"
  },
  "language_info": {
   "codemirror_mode": {
    "name": "ipython",
    "version": 3
   },
   "file_extension": ".py",
   "mimetype": "text/x-python",
   "name": "python",
   "nbconvert_exporter": "python",
   "pygments_lexer": "ipython3",
   "version": "3.12.7"
  }
 },
 "nbformat": 4,
 "nbformat_minor": 2
}
