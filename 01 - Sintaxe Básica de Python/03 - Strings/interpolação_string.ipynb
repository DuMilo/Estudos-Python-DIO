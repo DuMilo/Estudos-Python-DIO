{
 "cells": [
  {
   "cell_type": "markdown",
   "metadata": {},
   "source": [
    "#### Método Old Style %"
   ]
  },
  {
   "cell_type": "code",
   "execution_count": 1,
   "metadata": {},
   "outputs": [
    {
     "name": "stdout",
     "output_type": "stream",
     "text": [
      "Olá, me chamo Milo. Eu tenho 19 anos de idade, sou estudante de Programação e estou matriculado no curso de Python.\n"
     ]
    }
   ],
   "source": [
    "nome = \"Milo\";\n",
    "idade = 19;\n",
    "profissao = \"estudante de Programação\";\n",
    "linguagem = \"Python\";\n",
    "\n",
    "print(\"Olá, me chamo %s. Eu tenho %d anos de idade, sou %s e estou matriculado no curso de %s.\" % (nome, idade, profissao, linguagem));"
   ]
  },
  {
   "cell_type": "markdown",
   "metadata": {},
   "source": [
    "#### Método format"
   ]
  },
  {
   "cell_type": "code",
   "execution_count": 2,
   "metadata": {},
   "outputs": [
    {
     "name": "stdout",
     "output_type": "stream",
     "text": [
      "Olá, me chamo Milo. Eu tenho 19 anos de idade, sou estudante de Programação e estou matriculado no curso de Python.\n",
      "Olá, me chamo Python. Eu tenho estudante de Programação anos de idade, sou 19 e estou matriculado no curso de Milo.\n"
     ]
    }
   ],
   "source": [
    "print(\"Olá, me chamo {}. Eu tenho {} anos de idade, sou {} e estou matriculado no curso de {}.\".format(nome, idade, profissao, linguagem));\n",
    "\n",
    "print(\"Olá, me chamo {3}. Eu tenho {2} anos de idade, sou {1} e estou matriculado no curso de {0}.\".format(nome, idade, profissao, linguagem));\n"
   ]
  },
  {
   "cell_type": "markdown",
   "metadata": {},
   "source": [
    "#### Método F-String, R-String e FR-String"
   ]
  },
  {
   "cell_type": "code",
   "execution_count": null,
   "metadata": {},
   "outputs": [
    {
     "name": "stdout",
     "output_type": "stream",
     "text": [
      "Olá, me chamo Milo. Eu tenho 19 anos de idade, sou estudante de Programação e estou matriculado no curso de Python.\n"
     ]
    }
   ],
   "source": [
    "# Método F-String\n",
    "\n",
    "print(f\"Olá, me chamo {nome}. Eu tenho {idade} anos de idade, sou {profissao} e estou matriculado no curso de {linguagem}.\");"
   ]
  },
  {
   "cell_type": "markdown",
   "metadata": {},
   "source": [
    "#### Com dados pré-estabelecidos no Método Format:"
   ]
  },
  {
   "cell_type": "code",
   "execution_count": null,
   "metadata": {},
   "outputs": [],
   "source": [
    "dados = {\"nome\": \"Milo\", \"idade\": 19};\n",
    "\n",
    "print(\"Nome: {nome} Idade: {idade}\".format(**dados));"
   ]
  },
  {
   "cell_type": "markdown",
   "metadata": {},
   "source": [
    "#### Arredondamento de números"
   ]
  },
  {
   "cell_type": "code",
   "execution_count": 3,
   "metadata": {},
   "outputs": [
    {
     "name": "stdout",
     "output_type": "stream",
     "text": [
      "Valor de PI: 3.14\n",
      "Valor de PI:       3.14\n"
     ]
    },
    {
     "data": {
      "text/plain": [
       "3.14"
      ]
     },
     "execution_count": 3,
     "metadata": {},
     "output_type": "execute_result"
    }
   ],
   "source": [
    "PI = 3.14159;\n",
    "\n",
    "print(f\"Valor de PI: {PI:.2f}\");\n",
    "print(f\"Valor de PI: {PI: 10.2f}\");\n",
    "\n",
    "round(PI, 2)"
   ]
  }
 ],
 "metadata": {
  "kernelspec": {
   "display_name": "base",
   "language": "python",
   "name": "python3"
  },
  "language_info": {
   "codemirror_mode": {
    "name": "ipython",
    "version": 3
   },
   "file_extension": ".py",
   "mimetype": "text/x-python",
   "name": "python",
   "nbconvert_exporter": "python",
   "pygments_lexer": "ipython3",
   "version": "3.12.7"
  }
 },
 "nbformat": 4,
 "nbformat_minor": 2
}
